{
 "cells": [
  {
   "cell_type": "code",
   "execution_count": 1,
   "id": "initial_id",
   "metadata": {
    "collapsed": true,
    "ExecuteTime": {
     "end_time": "2023-11-02T18:28:25.858690300Z",
     "start_time": "2023-11-02T18:28:24.240289Z"
    }
   },
   "outputs": [],
   "source": [
    "\"\"\"\n",
    "0=first player (red), 1=second player (blue)\n",
    "board=np.zero((11,11)) # 1:red, 2:blue, 0:empty\n",
    "game, node, m(当前步数)\n",
    "\"\"\"\n",
    "import numpy as np\n",
    "import torch\n",
    "\n",
    "import azalea as az"
   ]
  },
  {
   "cell_type": "code",
   "execution_count": 2,
   "outputs": [
    {
     "name": "stdout",
     "output_type": "stream",
     "text": [
      "{'game': 'hex', 'seed': 3134582485, 'device': 'cuda', 'board_size': 11}\n"
     ]
    }
   ],
   "source": [
    "model_path = 'models/hex11-20180712-3362.policy.pth'\n",
    "config = {\n",
    "    'game': 'hex',\n",
    "    'seed': 0xBAD5EED5,\n",
    "    'device': 'cuda' if torch.cuda.is_available() else 'cpu'\n",
    "}\n",
    "\n",
    "np.random.seed(config['seed'])\n",
    "torch.manual_seed(config['seed'])\n",
    "torch.cuda.manual_seed(config['seed'])\n",
    "\n",
    "policy = az.Policy.load(config, model_path)\n",
    "config['board_size'] = policy.board_size\n",
    "print(config)"
   ],
   "metadata": {
    "collapsed": false,
    "ExecuteTime": {
     "end_time": "2023-11-02T18:28:32.017875400Z",
     "start_time": "2023-11-02T18:28:31.541320100Z"
    }
   },
   "id": "75d980004c6835da"
  },
  {
   "cell_type": "code",
   "execution_count": 6,
   "outputs": [
    {
     "name": "stdout",
     "output_type": "stream",
     "text": [
      "cpu 3000 10 0.75 0.03\n"
     ]
    }
   ],
   "source": [
    "gamelib = az.import_game(config['game'])\n",
    "# new game\n",
    "game = gamelib.GameState(board_size=config['board_size'])\n",
    "node = policy.reset(game)\n",
    "computer_move = None\n",
    "print(\n",
    "    # policy.board_size,\n",
    "    # policy.gamelib,\n",
    "    # policy.net,\n",
    "    policy.device,\n",
    "    policy.simulations,\n",
    "    policy.search_batch_size,\n",
    "    policy.exploration_coef,\n",
    "    policy.exploration_noise_alpha\n",
    ")"
   ],
   "metadata": {
    "collapsed": false,
    "ExecuteTime": {
     "end_time": "2023-11-02T16:19:36.179953Z",
     "start_time": "2023-11-02T16:19:36.069022600Z"
    }
   },
   "id": "8d5e0acad48a48c2"
  },
  {
   "cell_type": "code",
   "execution_count": 4,
   "outputs": [],
   "source": [
    "def print_board(utils, board, computer_move):\n",
    "    print('\\033[2J')\n",
    "    if computer_move:\n",
    "        utils.print_board(board)  # , highlight=computer_move)\n",
    "        print('last move: {}'.format(utils.format_move(\n",
    "            board, computer_move)))\n",
    "    else:\n",
    "        utils.print_board(board)\n",
    "        \n",
    "def ask_move(utils, board, moves):\n",
    "    while True:\n",
    "        move_txt = input('Your move? ')\n",
    "        try:\n",
    "            move = utils.parse_move(board, moves, move_txt)\n",
    "            if move in moves:\n",
    "                return move\n",
    "        except utils.ParseError:\n",
    "            print('illegal move:', move_txt)\n",
    "human = 1"
   ],
   "metadata": {
    "collapsed": false,
    "ExecuteTime": {
     "end_time": "2023-11-02T16:15:34.870018800Z",
     "start_time": "2023-11-02T16:15:34.866026100Z"
    }
   },
   "id": "c7d4b371d66e74f5"
  },
  {
   "cell_type": "code",
   "execution_count": null,
   "outputs": [],
   "source": [
    "\n",
    "for m in range(3):\n",
    "    moves = game.legal_moves()\n",
    "    if human:\n",
    "        print_board(gamelib, game.board(), computer_move)\n",
    "        move = ask_move(gamelib, game.board(), moves)\n",
    "        action = list(moves).index(move)\n",
    "    else:\n",
    "        # computer plays\n",
    "        action, node, probs, metrics = \\\n",
    "            policy.choose_action(game, node, m,\n",
    "                                 temperature=0, noise_scale=0)\n",
    "        computer_move = move = moves[action]\n",
    "        # print(action, node, probs, metrics, move)\n",
    "    game.move(move)\n",
    "    if game.result():\n",
    "        print_board(gamelib, game.board(), computer_move)\n",
    "        break\n",
    "        # return game.result()\n",
    "    if human:\n",
    "        node = policy.make_action(game, node, action, moves)\n",
    "    human = 1 - human\n",
    "print('end')"
   ],
   "metadata": {
    "collapsed": false
   },
   "id": "d4108b22c9d5a8d7"
  },
  {
   "cell_type": "code",
   "execution_count": null,
   "outputs": [],
   "source": [
    "\"\"\"\n",
    "policy and search tree:\n",
    " - self.gamelib,\n",
    " - self.net,\n",
    " - self.device,\n",
    " - self.simulations,\n",
    " - self.search_batch_size,\n",
    " - self.exploration_coef,\n",
    " - self.exploration_noise_alpha\n",
    " \n",
    " tree, \n",
    " *node_id, utils, game, net, device,\n",
    " num_simulations, batch_size,\n",
    "exploration_coef,\n",
    " *exploration_noise_scale, exploration_noise_alpha\n",
    "\"\"\"\n",
    "\n",
    "\n",
    "\n"
   ],
   "metadata": {
    "collapsed": false
   },
   "id": "38b610070717aef1"
  }
 ],
 "metadata": {
  "kernelspec": {
   "display_name": "Python 3",
   "language": "python",
   "name": "python3"
  },
  "language_info": {
   "codemirror_mode": {
    "name": "ipython",
    "version": 2
   },
   "file_extension": ".py",
   "mimetype": "text/x-python",
   "name": "python",
   "nbconvert_exporter": "python",
   "pygments_lexer": "ipython2",
   "version": "2.7.6"
  }
 },
 "nbformat": 4,
 "nbformat_minor": 5
}
