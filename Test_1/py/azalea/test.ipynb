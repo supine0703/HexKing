{
 "cells": [
  {
   "cell_type": "code",
   "execution_count": 1,
   "id": "initial_id",
   "metadata": {
    "collapsed": true,
    "ExecuteTime": {
     "end_time": "2023-11-09T12:07:01.464812300Z",
     "start_time": "2023-11-09T12:06:58.895474700Z"
    }
   },
   "outputs": [
    {
     "data": {
      "text/plain": "True"
     },
     "execution_count": 1,
     "metadata": {},
     "output_type": "execute_result"
    }
   ],
   "source": [
    "import torch\n",
    "from torch import nn\n",
    "# torch.cuda.is_available()"
   ]
  },
  {
   "cell_type": "code",
   "execution_count": 2,
   "outputs": [
    {
     "name": "stdout",
     "output_type": "stream",
     "text": [
      "dict_keys(['policy', 'optimizer'])\n",
      "dict_keys(['net', 'simulations', 'search_batch_size', 'exploration_coef', 'exploration_depth', 'exploration_noise_alpha', 'exploration_noise_scale', 'exploration_temperature', 'network_type', 'board_size', 'num_blocks', 'base_chans'])\n"
     ]
    }
   ],
   "source": [
    "state = torch.load('models/hex11-20180712-3362.policy.pth')\n",
    "print(state.keys())\n",
    "print(state['policy'].keys())"
   ],
   "metadata": {
    "collapsed": false,
    "ExecuteTime": {
     "end_time": "2023-11-09T12:04:34.093981200Z",
     "start_time": "2023-11-09T12:04:34.075283700Z"
    }
   },
   "id": "5c06c906bab3d008"
  },
  {
   "cell_type": "code",
   "execution_count": 3,
   "outputs": [],
   "source": [
    "from typing import Dict, Sequence, Set, Tuple\n",
    "\n",
    "import numpy as np\n",
    "import torch\n",
    "from numpy.random import RandomState\n",
    "\n",
    "from azalea import prep\n",
    "from azalea.network import Network\n",
    "from azalea.search_tree import SearchNode, SearchTree, SearchStats\n",
    "from azalea.search_tree import ForwardSearchIterator\n",
    "from azalea.search_tree import print_tree\n",
    "from azalea.my_typing import GameState, SearchableEnv\n",
    "\n",
    "from azalea.policy import create_network"
   ],
   "metadata": {
    "collapsed": false,
    "ExecuteTime": {
     "end_time": "2023-11-09T12:04:42.221400700Z",
     "start_time": "2023-11-09T12:04:41.503476Z"
    }
   },
   "id": "e00a3ac09af6d0cb"
  },
  {
   "cell_type": "code",
   "execution_count": 4,
   "outputs": [],
   "source": [
    "config = {\n",
    "        'game': 'azalea.game.hex.HexGame',\n",
    "        'network': 'azalea.network.HexNetwork',\n",
    "        'board_size': 11,\n",
    "        'seed': 1337,\n",
    "        'device': 'cpu',\n",
    "        'num_workers': 0,\n",
    "\n",
    "        'exploration_coef': 1.0,\n",
    "        'exploration_temperature': 1.0,\n",
    "        'exploration_depth': 15,\n",
    "        'exploration_noise_alpha': 0.03,\n",
    "        'exploration_noise_scale': 0.25,\n",
    "        'num_blocks': 6,\n",
    "        'base_chans': 64,\n",
    "        'simulations': 10,\n",
    "        'search_batch_size': 10,\n",
    "    }\n",
    "\n",
    "\n",
    "net = create_network(config['network'],\n",
    "                     config['board_size'],\n",
    "                     config['num_blocks'],\n",
    "                     config['base_chans'])"
   ],
   "metadata": {
    "collapsed": false,
    "ExecuteTime": {
     "end_time": "2023-11-09T12:04:44.970550500Z",
     "start_time": "2023-11-09T12:04:44.936128300Z"
    }
   },
   "id": "f9ee0bc638b0ad64"
  },
  {
   "cell_type": "code",
   "execution_count": 5,
   "outputs": [
    {
     "ename": "NameError",
     "evalue": "name 'game' is not defined",
     "output_type": "error",
     "traceback": [
      "\u001B[1;31m---------------------------------------------------------------------------\u001B[0m",
      "\u001B[1;31mNameError\u001B[0m                                 Traceback (most recent call last)",
      "\u001B[1;32m<ipython-input-5-09201f64bec2>\u001B[0m in \u001B[0;36m<module>\u001B[1;34m\u001B[0m\n\u001B[0;32m      1\u001B[0m \u001B[1;32mfrom\u001B[0m \u001B[0mazalea\u001B[0m\u001B[1;33m.\u001B[0m\u001B[0mmcts\u001B[0m \u001B[1;32mimport\u001B[0m \u001B[0mevaluate_batch\u001B[0m\u001B[1;33m\u001B[0m\u001B[1;33m\u001B[0m\u001B[0m\n\u001B[0;32m      2\u001B[0m \u001B[1;33m\u001B[0m\u001B[0m\n\u001B[1;32m----> 3\u001B[1;33m \u001B[0mvalue\u001B[0m\u001B[1;33m,\u001B[0m \u001B[0m_\u001B[0m\u001B[1;33m,\u001B[0m \u001B[0mprior_prob\u001B[0m \u001B[1;33m=\u001B[0m \u001B[0mevaluate_batch\u001B[0m\u001B[1;33m(\u001B[0m\u001B[0mgame\u001B[0m\u001B[1;33m,\u001B[0m \u001B[0mnet\u001B[0m\u001B[1;33m,\u001B[0m \u001B[1;33m[\u001B[0m\u001B[0mgame\u001B[0m\u001B[1;33m.\u001B[0m\u001B[0mstate\u001B[0m\u001B[1;33m]\u001B[0m\u001B[1;33m,\u001B[0m \u001B[0mRandomState\u001B[0m\u001B[1;33m(\u001B[0m\u001B[1;36m0\u001B[0m\u001B[1;33m)\u001B[0m\u001B[1;33m)\u001B[0m\u001B[1;33m\u001B[0m\u001B[1;33m\u001B[0m\u001B[0m\n\u001B[0m\u001B[0;32m      4\u001B[0m \u001B[0mprint\u001B[0m\u001B[1;33m(\u001B[0m\u001B[0mvalue\u001B[0m\u001B[1;33m)\u001B[0m\u001B[1;33m\u001B[0m\u001B[1;33m\u001B[0m\u001B[0m\n\u001B[0;32m      5\u001B[0m \u001B[0mprint\u001B[0m\u001B[1;33m(\u001B[0m\u001B[0mprior_prob\u001B[0m\u001B[1;33m)\u001B[0m\u001B[1;33m\u001B[0m\u001B[1;33m\u001B[0m\u001B[0m\n",
      "\u001B[1;31mNameError\u001B[0m: name 'game' is not defined"
     ]
    }
   ],
   "source": [
    "from azalea.mcts import evaluate_batch\n",
    "\n",
    "value, _, prior_prob = evaluate_batch(game, net, [game.state], RandomState(0))\n",
    "print(value)\n",
    "print(prior_prob)"
   ],
   "metadata": {
    "collapsed": false,
    "ExecuteTime": {
     "end_time": "2023-11-09T12:04:47.252424200Z",
     "start_time": "2023-11-09T12:04:47.183955Z"
    }
   },
   "id": "5f35870973b91de0"
  }
 ],
 "metadata": {
  "kernelspec": {
   "display_name": "Python 3",
   "language": "python",
   "name": "python3"
  },
  "language_info": {
   "codemirror_mode": {
    "name": "ipython",
    "version": 2
   },
   "file_extension": ".py",
   "mimetype": "text/x-python",
   "name": "python",
   "nbconvert_exporter": "python",
   "pygments_lexer": "ipython2",
   "version": "2.7.6"
  }
 },
 "nbformat": 4,
 "nbformat_minor": 5
}
